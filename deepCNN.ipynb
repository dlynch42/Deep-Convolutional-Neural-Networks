{
 "cells": [
  {
   "cell_type": "code",
   "execution_count": 5,
   "metadata": {},
   "outputs": [
    {
     "ename": "AttributeError",
     "evalue": "module 'scipy.misc' has no attribute 'imread'",
     "output_type": "error",
     "traceback": [
      "\u001b[0;31m---------------------------------------------------------------------------\u001b[0m",
      "\u001b[0;31mAttributeError\u001b[0m                            Traceback (most recent call last)",
      "\u001b[1;32m/Users/devinlynch/MLBook/Ch. 15/Ch15.ipynb Cell 1\u001b[0m in \u001b[0;36m<cell line: 4>\u001b[0;34m()\u001b[0m\n\u001b[1;32m      <a href='vscode-notebook-cell:/Users/devinlynch/MLBook/Ch.%2015/Ch15.ipynb#W0sZmlsZQ%3D%3D?line=0'>1</a>\u001b[0m \u001b[39m# Work with images; need PIL (python imaging library)\u001b[39;00m\n\u001b[1;32m      <a href='vscode-notebook-cell:/Users/devinlynch/MLBook/Ch.%2015/Ch15.ipynb#W0sZmlsZQ%3D%3D?line=1'>2</a>\u001b[0m \u001b[39m# Use imread fxn from scipy.misc to read RGB image\u001b[39;00m\n\u001b[1;32m      <a href='vscode-notebook-cell:/Users/devinlynch/MLBook/Ch.%2015/Ch15.ipynb#W0sZmlsZQ%3D%3D?line=2'>3</a>\u001b[0m \u001b[39mimport\u001b[39;00m \u001b[39mscipy\u001b[39;00m\u001b[39m.\u001b[39;00m\u001b[39mmisc\u001b[39;00m\n\u001b[0;32m----> <a href='vscode-notebook-cell:/Users/devinlynch/MLBook/Ch.%2015/Ch15.ipynb#W0sZmlsZQ%3D%3D?line=3'>4</a>\u001b[0m img \u001b[39m=\u001b[39m scipy\u001b[39m.\u001b[39;49mmisc\u001b[39m.\u001b[39;49mimread(\u001b[39m'\u001b[39m\u001b[39m/Users/devinlynch/MLBook/Ch. 15/Example Image/example-image.png\u001b[39m\u001b[39m'\u001b[39m, mode\u001b[39m=\u001b[39m\u001b[39m'\u001b[39m\u001b[39mRGB\u001b[39m\u001b[39m'\u001b[39m)\n\u001b[1;32m      <a href='vscode-notebook-cell:/Users/devinlynch/MLBook/Ch.%2015/Ch15.ipynb#W0sZmlsZQ%3D%3D?line=5'>6</a>\u001b[0m \u001b[39mprint\u001b[39m(\u001b[39m'\u001b[39m\u001b[39mImage Shape: \u001b[39m\u001b[39m'\u001b[39m, img\u001b[39m.\u001b[39mshape)\n\u001b[1;32m      <a href='vscode-notebook-cell:/Users/devinlynch/MLBook/Ch.%2015/Ch15.ipynb#W0sZmlsZQ%3D%3D?line=6'>7</a>\u001b[0m \u001b[39mprint\u001b[39m(\u001b[39m'\u001b[39m\u001b[39mNumber of Channels: \u001b[39m\u001b[39m'\u001b[39m, img\u001b[39m.\u001b[39mshape[\u001b[39m2\u001b[39m])\n",
      "\u001b[0;31mAttributeError\u001b[0m: module 'scipy.misc' has no attribute 'imread'"
     ]
    }
   ],
   "source": [
    "# Work with images; need PIL (python imaging library)\n",
    "# will need to use imageio for imread fxn\n",
    "# Use imread fxn from scipy.misc to read RGB image\n",
    "import scipy.misc\n",
    "img = scipy.misc.imread('/Users/devinlynch/MLBook/Ch. 15/Example Image/example-image.png', mode='RGB')\n",
    "\n",
    "print('Image Shape: ', img.shape)\n",
    "print('Number of Channels: ', img.shape[2])\n",
    "print('Image Data Type: ', img.dtype)\n",
    "print(img[100:102, 100:102, :])"
   ]
  }
 ],
 "metadata": {
  "kernelspec": {
   "display_name": "Python 3.10.4 ('.venv': venv)",
   "language": "python",
   "name": "python3"
  },
  "language_info": {
   "codemirror_mode": {
    "name": "ipython",
    "version": 3
   },
   "file_extension": ".py",
   "mimetype": "text/x-python",
   "name": "python",
   "nbconvert_exporter": "python",
   "pygments_lexer": "ipython3",
   "version": "3.10.4"
  },
  "orig_nbformat": 4,
  "vscode": {
   "interpreter": {
    "hash": "083a42570bcc9540ccea0c06ed31349ced70ab63bde88af92c61b348c069bb97"
   }
  }
 },
 "nbformat": 4,
 "nbformat_minor": 2
}
